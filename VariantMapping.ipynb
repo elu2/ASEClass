{
 "cells": [
  {
   "cell_type": "code",
   "execution_count": 28,
   "metadata": {},
   "outputs": [],
   "source": [
    "import pandas as pd\n",
    "import numpy as np\n",
    "import os\n",
    "import time\n",
    "from tqdm import tqdm\n",
    "from joblib import Parallel, delayed"
   ]
  },
  {
   "cell_type": "code",
   "execution_count": 53,
   "metadata": {},
   "outputs": [],
   "source": [
    "pc_transcripts = pd.read_csv(\"./data/protein_coding_transcripts.csv\")"
   ]
  },
  {
   "cell_type": "markdown",
   "metadata": {},
   "source": [
    "## Map (variant) position onto transcripts"
   ]
  },
  {
   "cell_type": "code",
   "execution_count": 45,
   "metadata": {},
   "outputs": [],
   "source": [
    "def df_chunker(full_df, chunks):\n",
    "    dfs = list()\n",
    "    interval_size = full_df.shape[0]//chunks\n",
    "    dfs.append(full_df.iloc[0:interval_size, :])\n",
    "\n",
    "    for i in range(chunks - 1):\n",
    "        dfs.append(full_df.iloc[(interval_size * (i + 1))\n",
    "                   :(interval_size * (i + 2)), :])\n",
    "\n",
    "    if full_df.shape[0] % chunks != 0:\n",
    "        dfs.append(full_df.iloc[interval_size * chunks:, :])\n",
    "\n",
    "    return dfs\n",
    "\n",
    "\n",
    "# pri_table: table of ranges to which pos are assessed on\n",
    "def in_range(pos, chrom, pri_table):\n",
    "    sub_pri = pri_table[pri_table.seqname == chrom]\n",
    "    starts = sub_pri[\"start\"]\n",
    "    ends = sub_pri[\"end\"]\n",
    "    \n",
    "    in_ends = (ends - pos) >= 0\n",
    "    in_starts = (pos - starts) >= 0\n",
    "    \n",
    "    between = (in_ends * in_starts)\n",
    "    between = np.where(between)[0]\n",
    "    if len(between) == 0:\n",
    "        return None, None\n",
    "    between = sub_pri.iloc[between]\n",
    "\n",
    "    return between[\"gene_id\"].item(), between[\"transcript_ids\"].item()\n",
    "\n",
    "\n",
    "def pos_transc_mapper(sub_df, pri_table):\n",
    "    pos_tgs = sub_df[[\"CHR\", \"POS\"]].apply(lambda x: in_range(x.POS, x.CHR, pri_table), axis=1)\n",
    "    pos_gene_ids = [x[0] for x in pos_tgs]\n",
    "    pos_tran_ids = [x[1] for x in pos_tgs]\n",
    "\n",
    "    sub_df[\"GENE_ID\"] = pos_gene_ids\n",
    "    sub_df[\"TRANSCRIPT_ID\"] = pos_tran_ids\n",
    "    \n",
    "    return sub_df"
   ]
  },
  {
   "cell_type": "code",
   "execution_count": 47,
   "metadata": {},
   "outputs": [
    {
     "name": "stderr",
     "output_type": "stream",
     "text": [
      "2it [01:10, 35.34s/it]"
     ]
    },
    {
     "name": "stdout",
     "output_type": "stream",
     "text": [
      "71.40602922439575\n"
     ]
    },
    {
     "name": "stderr",
     "output_type": "stream",
     "text": [
      "\n"
     ]
    }
   ],
   "source": [
    "if __name__ == \"__main__\":\n",
    "    start = time.time()\n",
    "    samples = pd.read_csv('./data/long_read_samples_short.csv')\n",
    "    # Protein coding only\n",
    "    pc_pri = pd.read_csv(\"./data/pc_exon_region_classification2.csv\")\n",
    "    \n",
    "    for subj_id, tissue_id in tqdm(zip(samples[\"SUBJECT_ID\"][:2], samples[\"TISSUE_ID\"][:2])):\n",
    "        try:\n",
    "            var_df = pd.read_csv(f\"./GTEx_Analysis_v8_ASE_counts_by_subject/{subj_id}.v8.ase_table.tsv\", sep=\"\\t\")\n",
    "        except FileNotFoundError:\n",
    "            continue\n",
    "\n",
    "        sub_df = var_df[var_df.TISSUE_ID == tissue_id].copy()\n",
    "        sub_df[\"COUNT\"] = sub_df.ALT_COUNT + sub_df.REF_COUNT\n",
    "        sub_df = sub_df[[\"CHR\", \"POS\", \"TISSUE_ID\", \"COUNT\", \"ALT_COUNT\", \"REF_COUNT\"]]\n",
    "\n",
    "        sdf_chunks = df_chunker(sub_df, 50)\n",
    "        # valid_pri as second arg otherwise\n",
    "        out_dfs = Parallel(n_jobs=-1)(delayed(pos_transc_mapper)(sdf_chunk, pc_pri) for sdf_chunk in sdf_chunks)\n",
    "\n",
    "        # pd.concat(out_dfs, axis=0).to_csv(f\"./data/shortReadMappedFilteredPCTransc/{subj_id}-{tissue_id}_variant_isospec.csv\", index=False)\n",
    "    print(time.time() - start)"
   ]
  },
  {
   "cell_type": "code",
   "execution_count": 65,
   "metadata": {},
   "outputs": [
    {
     "name": "stderr",
     "output_type": "stream",
     "text": [
      "88it [12:37,  8.61s/it]"
     ]
    },
    {
     "name": "stdout",
     "output_type": "stream",
     "text": [
      "758.3174850940704\n"
     ]
    },
    {
     "name": "stderr",
     "output_type": "stream",
     "text": [
      "\n"
     ]
    }
   ],
   "source": [
    "if __name__ == \"__main__\":\n",
    "    start = time.time()\n",
    "    samples = pd.read_csv('./data/long_read_samples_short.csv')\n",
    "    # Protein coding only\n",
    "    pc_pri = pd.read_csv(\"./data/pc_exon_region_classification2.csv\")\n",
    "\n",
    "    # Protein coding transcripts\n",
    "    valid_pri = valid_pri.merge(pc_transcripts)\n",
    "\n",
    "    for subj_id, tissue_id in tqdm(zip(samples[\"SUBJECT_ID\"], samples[\"TISSUE_ID\"])):\n",
    "        try:\n",
    "            var_df = pd.read_csv(f\"./GTEx_Analysis_v8_ASE_counts_by_subject/{subj_id}.v8.ase_table.tsv\", sep=\"\\t\")\n",
    "        except FileNotFoundError:\n",
    "            continue\n",
    "        \n",
    "        # Tissue-specific filtering of transcript share\n",
    "        filter_template = pd.read_csv(f'./data/SR_filtered_transcripts_by_tissue/{tissue_id}.csv')\n",
    "        filtered_isospec = valid_pri.merge(filter_template[[\"gene_id\", \"transcript_id\"]], on=[\"gene_id\", \"transcript_id\"])\n",
    "\n",
    "        sub_df = var_df[var_df.TISSUE_ID == tissue_id].copy()\n",
    "        sub_df[\"COUNT\"] = sub_df.ALT_COUNT + sub_df.REF_COUNT\n",
    "        sub_df = sub_df[[\"CHR\", \"POS\", \"TISSUE_ID\", \"COUNT\", \"ALT_COUNT\", \"REF_COUNT\"]]\n",
    "\n",
    "        sdf_chunks = df_chunker(sub_df, 50)\n",
    "        # valid_pri as second arg otherwise\n",
    "        out_dfs = Parallel(n_jobs=-1)(delayed(pos_transc_mapper)(sdf_chunk, filtered_isospec) for sdf_chunk in sdf_chunks)\n",
    "\n",
    "        pd.concat(out_dfs, axis=0).to_csv(f\"./data/shortReadMappedShareFilteredPC/{subj_id}-{tissue_id}_variant_isospec.csv\", index=False)\n",
    "    print(time.time() - start)"
   ]
  },
  {
   "cell_type": "code",
   "execution_count": null,
   "metadata": {},
   "outputs": [],
   "source": []
  }
 ],
 "metadata": {
  "kernelspec": {
   "display_name": "Python 3",
   "language": "python",
   "name": "python3"
  },
  "language_info": {
   "codemirror_mode": {
    "name": "ipython",
    "version": 3
   },
   "file_extension": ".py",
   "mimetype": "text/x-python",
   "name": "python",
   "nbconvert_exporter": "python",
   "pygments_lexer": "ipython3",
   "version": "3.8.3"
  }
 },
 "nbformat": 4,
 "nbformat_minor": 4
}
