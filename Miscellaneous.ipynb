{
 "cells": [
  {
   "cell_type": "code",
   "execution_count": null,
   "metadata": {},
   "outputs": [],
   "source": [
    "import os"
   ]
  },
  {
   "cell_type": "code",
   "execution_count": 91,
   "metadata": {},
   "outputs": [],
   "source": [
    "rn_map = {\n",
    "    \"fibs\": \"FIBRBLS\",\n",
    "    \"liver\": \"LIVER\",\n",
    "    \"lung\": \"LUNG\",\n",
    "    \"brainfrontalcortex\": \"BRNCTXB\",\n",
    "    \"brainputamenbasalganglia\": \"BRNPTM\",\n",
    "    \"heartatrialappendage\": \"HRTAA\",\n",
    "    \"heartleftventricle\": \"HRTLV\",\n",
    "    \"braincaudatebasalganglia\": \"BRNCDT\",\n",
    "    \"braincerebellarhemisphere\": \"BRNCHB\",\n",
    "    \"muscle\": \"MSCLSK\",\n",
    "    \"brainanteriorcingulatecortex\": \"BRNACC\",\n",
    "    \"breast\": \"BREAST\",\n",
    "    \"pancreas\": \"PNCREAS\",\n",
    "    \"adipose\": \"ADPSBQ\"\n",
    "}\n",
    "def renamer(istr):\n",
    "    mid = istr.split(\".\")[1]\n",
    "    us_s = mid.split(\"_\")\n",
    "    return f\"{us_s[0]}-{us_s[1]}_{rn_map[us_s[2]]}.tsv\""
   ]
  },
  {
   "cell_type": "code",
   "execution_count": 94,
   "metadata": {},
   "outputs": [],
   "source": [
    "ls_r = os.listdir(\"./data/LR_ASE/\")\n",
    "to_name = [renamer(x) for x in ls_r]\n",
    "\n",
    "ls_r = [\"./data/LR_ASE/\" + x for x in ls_r]\n",
    "to_name = [\"./data/LR_ASE/\" + x for x in to_name]"
   ]
  },
  {
   "cell_type": "code",
   "execution_count": 97,
   "metadata": {},
   "outputs": [],
   "source": [
    "for f, t in zip(ls_r, to_name):\n",
    "    os.rename(f, t)"
   ]
  }
 ],
 "metadata": {
  "kernelspec": {
   "display_name": "Python 3",
   "language": "python",
   "name": "python3"
  },
  "language_info": {
   "codemirror_mode": {
    "name": "ipython",
    "version": 3
   },
   "file_extension": ".py",
   "mimetype": "text/x-python",
   "name": "python",
   "nbconvert_exporter": "python",
   "pygments_lexer": "ipython3",
   "version": "3.8.3"
  }
 },
 "nbformat": 4,
 "nbformat_minor": 4
}
