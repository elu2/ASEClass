{
 "cells": [
  {
   "cell_type": "code",
   "execution_count": 1,
   "metadata": {},
   "outputs": [],
   "source": [
    "import pandas as pd\n",
    "import numpy as np\n",
    "import os\n",
    "from tqdm import tqdm"
   ]
  },
  {
   "cell_type": "code",
   "execution_count": 10,
   "metadata": {},
   "outputs": [],
   "source": [
    "# Get sample by tissue\n",
    "sample_tiss = pd.read_csv('./data/sr_sample_tissue.csv')\n",
    "tiss_dict = dict()\n",
    "for tid in set(sample_tiss.TISSUE_ID):\n",
    "    tiss_dict[tid] = list(sample_tiss[sample_tiss.TISSUE_ID == tid][\"SAMPLE_ID\"])"
   ]
  },
  {
   "cell_type": "code",
   "execution_count": 17,
   "metadata": {},
   "outputs": [
    {
     "name": "stderr",
     "output_type": "stream",
     "text": [
      "100%|██████████| 54/54 [2:45:18<00:00, 183.67s/it]  \n"
     ]
    }
   ],
   "source": [
    "# Split gct file into separate tissues\n",
    "# Runtime ~3hrs\n",
    "for tid in tqdm(set(sample_tiss.TISSUE_ID)):\n",
    "    tiss_df = pd.read_csv(\n",
    "        \"./data/short_read_transcript_counts.gct\", sep = \"\\t\", low_memory=True,\n",
    "        skiprows=2,\n",
    "        usecols=[\"transcript_id\", \"gene_id\"] + tiss_dict[tid]\n",
    "    )\n",
    "\n",
    "    tiss_df.to_csv(f\"./data/SR_transcript_counts_by_tissue/{tid}.csv\", index=False)"
   ]
  },
  {
   "cell_type": "code",
   "execution_count": 4,
   "metadata": {},
   "outputs": [],
   "source": [
    "sample_tiss = pd.read_csv('./data/sr_sample_tissue.csv')\n",
    "\n",
    "tids = set(sample_tiss.TISSUE_ID)"
   ]
  },
  {
   "cell_type": "code",
   "execution_count": null,
   "metadata": {},
   "outputs": [],
   "source": [
    "counter = 0\n",
    "for tid in tids:\n",
    "    # Obtain and preprocess tissue-specific counts\n",
    "    t_cts = pd.read_csv(f\"./data/SR_transcript_counts_by_tissue/{tid}.csv\")\n",
    "    t_cts[\"transcript_id\"] = t_cts.transcript_id.str.split(\".\").str[0]\n",
    "    t_cts[\"gene_id\"] = t_cts.gene_id.str.split(\".\").str[0]\n",
    "\n",
    "    # Only take sample columns to sum over\n",
    "    samp_cols = [x for x in t_cts.columns if \"GTEX\" in x]\n",
    "\n",
    "    transc_df = t_cts[[\"gene_id\", \"transcript_id\"]].copy()\n",
    "    transc_df[\"agg_counts\"] = t_cts[samp_cols].sum(axis=1)\n",
    "\n",
    "\n",
    "    gb_transc = transc_df.groupby(\"gene_id\")\n",
    "\n",
    "    # Remove transcripts with less than 5% count share\n",
    "    gene_df_list = []\n",
    "    for gene, gp in tqdm(gb_transc):\n",
    "        gp[\"count_share\"] = gp[\"agg_counts\"]/gp[\"agg_counts\"].sum()\n",
    "        gp = gp[gp.count_share >= 0.05]\n",
    "        gene_df_list.append(gp)\n",
    "\n",
    "    filtered_df = pd.concat(gene_df_list)\n",
    "    filtered_df.to_csv(f\"./data/SR_filtered_transcripts_by_tissue/{tid}.csv\", index=False)\n",
    "    \n",
    "    print(f\"Finished {tid}: {counter}\")\n",
    "    counter += 1"
   ]
  },
  {
   "cell_type": "code",
   "execution_count": null,
   "metadata": {},
   "outputs": [],
   "source": []
  }
 ],
 "metadata": {
  "kernelspec": {
   "display_name": "Python 3",
   "language": "python",
   "name": "python3"
  },
  "language_info": {
   "codemirror_mode": {
    "name": "ipython",
    "version": 3
   },
   "file_extension": ".py",
   "mimetype": "text/x-python",
   "name": "python",
   "nbconvert_exporter": "python",
   "pygments_lexer": "ipython3",
   "version": "3.8.3"
  }
 },
 "nbformat": 4,
 "nbformat_minor": 4
}
